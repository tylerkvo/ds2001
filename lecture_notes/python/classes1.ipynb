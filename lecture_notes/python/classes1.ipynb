{
 "cells": [
  {
   "cell_type": "markdown",
   "metadata": {},
   "source": [
    "## Classes I\n",
    "\n",
    "### University of Virginia\n",
    "### Programming for Data Science\n",
    "### Last Updated: December 30, 2020\n",
    "---  \n",
    "\n",
    "### PREREQUISITES \n",
    "- variables\n",
    "- functions\n",
    "\n",
    "### SOURCES \n",
    "https://docs.python.org/3/tutorial/classes.html\n",
    "\n",
    "\n",
    "\n",
    "\n",
    "### OBJECTIVES\n",
    "Provide a brief intro to classes:\n",
    "- what they are\n",
    "- their benefits\n",
    "- how to use them\n",
    " \n",
    "\n",
    "### CONCEPTS\n",
    "\n",
    "- class\n",
    "- objects\n",
    "- instantiation\n",
    "- `__init__` function\n",
    "- attributes\n",
    "- methods\n",
    "\n",
    "---\n",
    "\n",
    "### Introduction to Objects and Classes\n",
    "\n",
    "When we work with things and reason about them, we generally think about their attributes, and what they can do.  \n",
    "For similar things, it can be helpful for group them into `objects` such as cars, homes, databases, or logistic regression models.  \n",
    "\n",
    "A `class` provides a template for creating an object, and for working with the object.\n",
    "For the case of the logistic regression model, it has `attributes` like:\n",
    "\n",
    "- weights\n",
    "- an optional intercept term\n",
    "- the maximum number of iterations\n",
    "\n",
    "These attributes help describe the object (they give the object's state).\n",
    "\n",
    "The logistic regression model has functionality such as:\n",
    "\n",
    "- the optimization routine used in training\n",
    "- a prediction function\n",
    "\n",
    "The functionality is supported by `methods`, which are functions included in the class.\n",
    "\n",
    "There are tremendous benefits to programming with objects, or object-oriented programming (OOP), such as:\n",
    "\n",
    "- objects are natural ways of defining, grouping, communicating, and thinking about things\n",
    "- objects are convenient for packaging together the data and functionality. it concisely says: what is in this thing, and what does it do?\n",
    "- it is simple to create as many copies of the object as you'd like\n",
    "- for more complex objects, they can take on all the attributes and methods of the simpler object. this is called `inheritance`.\n",
    "\n",
    "Ok, let's look at examples, starting with a very small, simple class.  \n",
    "The class contains:\n",
    "- a name (Ferrari458)\n",
    "- a docstring for a quick description\n",
    "- an attribute, which is number of cylinders in the engine\n",
    "- a method"
   ]
  },
  {
   "cell_type": "code",
   "execution_count": 5,
   "metadata": {},
   "outputs": [
    {
     "ename": "AttributeError",
     "evalue": "'Phone' object has no attribute 'has_case'",
     "output_type": "error",
     "traceback": [
      "\u001b[0;31m---------------------------------------------------------------------------\u001b[0m",
      "\u001b[0;31mAttributeError\u001b[0m                            Traceback (most recent call last)",
      "\u001b[0;32m/var/folders/7k/snl9f06s61d6rn41_ppt9qr40000gn/T/ipykernel_56157/2126951208.py\u001b[0m in \u001b[0;36m<module>\u001b[0;34m\u001b[0m\n\u001b[1;32m      6\u001b[0m \u001b[0;34m\u001b[0m\u001b[0m\n\u001b[1;32m      7\u001b[0m \u001b[0mmyPhone\u001b[0m \u001b[0;34m=\u001b[0m \u001b[0mPhone\u001b[0m\u001b[0;34m(\u001b[0m\u001b[0;34m'iphone'\u001b[0m\u001b[0;34m,\u001b[0m\u001b[0;34m'black'\u001b[0m\u001b[0;34m,\u001b[0m\u001b[0;32mTrue\u001b[0m\u001b[0;34m)\u001b[0m\u001b[0;34m\u001b[0m\u001b[0;34m\u001b[0m\u001b[0m\n\u001b[0;32m----> 8\u001b[0;31m \u001b[0mprint\u001b[0m\u001b[0;34m(\u001b[0m\u001b[0mmyPhone\u001b[0m\u001b[0;34m.\u001b[0m\u001b[0mhas_case\u001b[0m\u001b[0;34m)\u001b[0m\u001b[0;34m\u001b[0m\u001b[0;34m\u001b[0m\u001b[0m\n\u001b[0m",
      "\u001b[0;31mAttributeError\u001b[0m: 'Phone' object has no attribute 'has_case'"
     ]
    }
   ],
   "source": [
    "class Phone:\n",
    "    def __init__(self, brand, color, has_case):\n",
    "        self.brand = brand\n",
    "        self.color = color\n",
    "        has_case = has_case\n",
    "\n",
    "myPhone = Phone('iphone','black',True)\n",
    "print(myPhone.has_case)"
   ]
  },
  {
   "cell_type": "code",
   "execution_count": 2,
   "metadata": {},
   "outputs": [],
   "source": [
    "class Ferrari458:\n",
    "    \"\"\"this is a Ferrari 458 object\"\"\"\n",
    "    cylinders = 8\n",
    "\n",
    "    def print_origin(self):\n",
    "        return 'I was built in Italy!'"
   ]
  },
  {
   "cell_type": "markdown",
   "metadata": {},
   "source": [
    "You can learn about the class by printing the docstring:"
   ]
  },
  {
   "cell_type": "code",
   "execution_count": 3,
   "metadata": {},
   "outputs": [
    {
     "data": {
      "text/plain": [
       "'this is a Ferrari 458 object'"
      ]
     },
     "execution_count": 3,
     "metadata": {},
     "output_type": "execute_result"
    }
   ],
   "source": [
    "Ferrari458.__doc__"
   ]
  },
  {
   "cell_type": "markdown",
   "metadata": {},
   "source": [
    "You can also get detailed help like this:"
   ]
  },
  {
   "cell_type": "code",
   "execution_count": 4,
   "metadata": {},
   "outputs": [
    {
     "name": "stdout",
     "output_type": "stream",
     "text": [
      "Help on class Ferrari458 in module __main__:\n",
      "\n",
      "class Ferrari458(builtins.object)\n",
      " |  this is a Ferrari 458 object\n",
      " |  \n",
      " |  Methods defined here:\n",
      " |  \n",
      " |  print_origin(self)\n",
      " |  \n",
      " |  ----------------------------------------------------------------------\n",
      " |  Data descriptors defined here:\n",
      " |  \n",
      " |  __dict__\n",
      " |      dictionary for instance variables (if defined)\n",
      " |  \n",
      " |  __weakref__\n",
      " |      list of weak references to the object (if defined)\n",
      " |  \n",
      " |  ----------------------------------------------------------------------\n",
      " |  Data and other attributes defined here:\n",
      " |  \n",
      " |  cylinders = 8\n",
      "\n"
     ]
    }
   ],
   "source": [
    "help(Ferrari458)"
   ]
  },
  {
   "cell_type": "markdown",
   "metadata": {},
   "source": [
    "Next, we create an object from the class (also called an `instance` of the class).  \n",
    "It is called like a function with no parameters.  The process is called `instantiation.`"
   ]
  },
  {
   "cell_type": "code",
   "execution_count": null,
   "metadata": {},
   "outputs": [
    {
     "ename": "NameError",
     "evalue": "name 'Ferrari458' is not defined",
     "output_type": "error",
     "traceback": [
      "\u001b[0;31m---------------------------------------------------------------------------\u001b[0m",
      "\u001b[0;31mNameError\u001b[0m                                 Traceback (most recent call last)",
      "\u001b[0;32m/var/folders/7k/snl9f06s61d6rn41_ppt9qr40000gn/T/ipykernel_56157/1882436835.py\u001b[0m in \u001b[0;36m<module>\u001b[0;34m\u001b[0m\n\u001b[0;32m----> 1\u001b[0;31m \u001b[0mmyferrari\u001b[0m \u001b[0;34m=\u001b[0m \u001b[0mFerrari458\u001b[0m\u001b[0;34m(\u001b[0m\u001b[0;34m)\u001b[0m\u001b[0;34m\u001b[0m\u001b[0;34m\u001b[0m\u001b[0m\n\u001b[0m\u001b[1;32m      2\u001b[0m \u001b[0;32mclass\u001b[0m \u001b[0mVector\u001b[0m\u001b[0;34m:\u001b[0m\u001b[0;34m\u001b[0m\u001b[0;34m\u001b[0m\u001b[0m\n\u001b[1;32m      3\u001b[0m     \u001b[0mdim\u001b[0m \u001b[0;34m=\u001b[0m \u001b[0;36m3\u001b[0m\u001b[0;34m\u001b[0m\u001b[0;34m\u001b[0m\u001b[0m\n\u001b[1;32m      4\u001b[0m \u001b[0;34m\u001b[0m\u001b[0m\n\u001b[1;32m      5\u001b[0m     \u001b[0;32mdef\u001b[0m \u001b[0mprint_dim\u001b[0m\u001b[0;34m(\u001b[0m\u001b[0mself\u001b[0m\u001b[0;34m)\u001b[0m\u001b[0;34m:\u001b[0m\u001b[0;34m\u001b[0m\u001b[0;34m\u001b[0m\u001b[0m\n",
      "\u001b[0;31mNameError\u001b[0m: name 'Ferrari458' is not defined"
     ]
    }
   ],
   "source": [
    "myferrari = Ferrari458()"
   ]
  },
  {
   "cell_type": "markdown",
   "metadata": {},
   "source": [
    "We show the number of cylinders by using the `object.attribute` format:"
   ]
  },
  {
   "cell_type": "code",
   "execution_count": 6,
   "metadata": {},
   "outputs": [
    {
     "data": {
      "text/plain": [
       "8"
      ]
     },
     "execution_count": 6,
     "metadata": {},
     "output_type": "execute_result"
    }
   ],
   "source": [
    "myferrari.cylinders"
   ]
  },
  {
   "cell_type": "markdown",
   "metadata": {},
   "source": [
    "Then we call its method `print_origin` to learn where this sweet machine was built."
   ]
  },
  {
   "cell_type": "code",
   "execution_count": 7,
   "metadata": {},
   "outputs": [
    {
     "data": {
      "text/plain": [
       "'I was built in Italy!'"
      ]
     },
     "execution_count": 7,
     "metadata": {},
     "output_type": "execute_result"
    }
   ],
   "source": [
    "myferrari.print_origin()"
   ]
  },
  {
   "cell_type": "markdown",
   "metadata": {},
   "source": [
    "As a convention, methods take `self` as their first argument. Methods can use `self.attribute` to extract their attributes.  \n",
    "Here is an example, with method `get_cylinders`."
   ]
  },
  {
   "cell_type": "code",
   "execution_count": 8,
   "metadata": {},
   "outputs": [],
   "source": [
    "class Ferrari458_v2:\n",
    "    \"\"\"this is a Ferrari 458 object\"\"\"\n",
    "    cylinders = 8\n",
    "\n",
    "    def print_origin(self):\n",
    "        return 'I was built in Italy!'\n",
    "\n",
    "    def get_cylinders(self):\n",
    "        return self.cylinders"
   ]
  },
  {
   "cell_type": "code",
   "execution_count": 9,
   "metadata": {},
   "outputs": [
    {
     "data": {
      "text/plain": [
       "8"
      ]
     },
     "execution_count": 9,
     "metadata": {},
     "output_type": "execute_result"
    }
   ],
   "source": [
    "myferrari = Ferrari458_v2()\n",
    "myferrari.get_cylinders()"
   ]
  },
  {
   "cell_type": "markdown",
   "metadata": {},
   "source": [
    "### `__init__`\n",
    "\n",
    "There is a special function called `__init__` that will instantiate objects for you.\n",
    "Let's look at another version of the class with __init__."
   ]
  },
  {
   "cell_type": "code",
   "execution_count": 11,
   "metadata": {},
   "outputs": [],
   "source": [
    "class Ferrari458_v3:\n",
    "    \"\"\"this is a Ferrari 458 object\"\"\"\n",
    "    \n",
    "    def __init__(self, cylinders):\n",
    "        self.cylinders = cylinders\n",
    "\n",
    "    def print_origin(self):\n",
    "        return 'I was built in Italy!'\n",
    "\n",
    "    def get_cylinders(self):\n",
    "        return self.cylinders"
   ]
  },
  {
   "cell_type": "markdown",
   "metadata": {},
   "source": [
    "By adding the `__init__` function, we can create objects if we pass the number of cylinders.  \n",
    "If we don't pass this parameter, there will be an error."
   ]
  },
  {
   "cell_type": "code",
   "execution_count": 12,
   "metadata": {},
   "outputs": [
    {
     "ename": "TypeError",
     "evalue": "__init__() missing 1 required positional argument: 'cylinders'",
     "output_type": "error",
     "traceback": [
      "\u001b[0;31m---------------------------------------------------------------------------\u001b[0m",
      "\u001b[0;31mTypeError\u001b[0m                                 Traceback (most recent call last)",
      "\u001b[0;32m/var/folders/7k/snl9f06s61d6rn41_ppt9qr40000gn/T/ipykernel_34865/1859748419.py\u001b[0m in \u001b[0;36m<module>\u001b[0;34m\u001b[0m\n\u001b[1;32m      1\u001b[0m \u001b[0;31m# this breaks as cylinders is required\u001b[0m\u001b[0;34m\u001b[0m\u001b[0;34m\u001b[0m\u001b[0;34m\u001b[0m\u001b[0m\n\u001b[1;32m      2\u001b[0m \u001b[0;34m\u001b[0m\u001b[0m\n\u001b[0;32m----> 3\u001b[0;31m \u001b[0mferr1\u001b[0m \u001b[0;34m=\u001b[0m \u001b[0mFerrari458_v3\u001b[0m\u001b[0;34m(\u001b[0m\u001b[0;34m)\u001b[0m\u001b[0;34m\u001b[0m\u001b[0;34m\u001b[0m\u001b[0m\n\u001b[0m",
      "\u001b[0;31mTypeError\u001b[0m: __init__() missing 1 required positional argument: 'cylinders'"
     ]
    }
   ],
   "source": [
    "# this breaks as cylinders is required\n",
    "\n",
    "ferr1 = Ferrari458_v3()"
   ]
  },
  {
   "cell_type": "code",
   "execution_count": 13,
   "metadata": {},
   "outputs": [],
   "source": [
    "# this works\n",
    "\n",
    "ferr1 = Ferrari458_v3(12)"
   ]
  },
  {
   "cell_type": "code",
   "execution_count": 14,
   "metadata": {},
   "outputs": [
    {
     "data": {
      "text/plain": [
       "12"
      ]
     },
     "execution_count": 14,
     "metadata": {},
     "output_type": "execute_result"
    }
   ],
   "source": [
    "# get the cylinders attribute using the \"dot\" operator\n",
    "\n",
    "ferr1.cylinders"
   ]
  },
  {
   "cell_type": "code",
   "execution_count": 15,
   "metadata": {},
   "outputs": [
    {
     "data": {
      "text/plain": [
       "12"
      ]
     },
     "execution_count": 15,
     "metadata": {},
     "output_type": "execute_result"
    }
   ],
   "source": [
    "# get the cylinders by calling the method\n",
    "\n",
    "ferr1.get_cylinders()"
   ]
  },
  {
   "cell_type": "markdown",
   "metadata": {},
   "source": [
    "Now you know some basics about `classes` to get you started. Be sure to review the source documentation to learn more!"
   ]
  },
  {
   "cell_type": "markdown",
   "metadata": {},
   "source": [
    "---"
   ]
  },
  {
   "cell_type": "markdown",
   "metadata": {},
   "source": [
    "### TRY FOR YOURSELF (UNGRADED EXERCISES)"
   ]
  },
  {
   "cell_type": "markdown",
   "metadata": {},
   "source": [
    "Create your own class, which needs to contain the following:\n",
    "- a docstring\n",
    "- an `__init__` function\n",
    "- at least two attributes\n",
    "- at least two methods"
   ]
  },
  {
   "cell_type": "code",
   "execution_count": 38,
   "metadata": {},
   "outputs": [],
   "source": [
    "# enter your class here\n",
    "class Person:\n",
    "    \"\"\"This is an blueprint for a person\"\"\"\n",
    "    def __init__(self, height, weight, age):\n",
    "        self.height = height\n",
    "        self.weight = weight\n",
    "        self.age = age\n",
    "        \n",
    "    def sleep(self):\n",
    "        print(\"zzzzz\")\n",
    "        self.height += .001\n",
    "    \n",
    "    def eat(self):\n",
    "        print(\"yummy\")\n",
    "        self.weight += .1"
   ]
  },
  {
   "cell_type": "markdown",
   "metadata": {},
   "source": [
    "Now that you've defined your class, do these tasks in cells below:\n",
    "- create an object by passing the parameters required by `__init__`\n",
    "- use object.attribute to show each attribute\n",
    "- call each of the methods"
   ]
  },
  {
   "cell_type": "code",
   "execution_count": 39,
   "metadata": {
    "tags": []
   },
   "outputs": [
    {
     "name": "stdout",
     "output_type": "stream",
     "text": [
      "65\n",
      "145\n",
      "19\n",
      "zzzzz\n",
      "yummy\n",
      "65.001\n",
      "145.1\n",
      "19\n",
      "zzzzz\n",
      "yummy\n",
      "65.00200000000001\n",
      "145.2\n",
      "19\n"
     ]
    }
   ],
   "source": [
    "Tyler = Person(65, 145, 19)\n",
    "print(Tyler.height)\n",
    "print(Tyler.weight)\n",
    "print(Tyler.age)\n",
    "Tyler.sleep()\n",
    "Tyler.eat()\n",
    "print(Tyler.height)\n",
    "print(Tyler.weight)\n",
    "print(Tyler.age)\n",
    "Tyler.sleep()\n",
    "Tyler.eat()\n",
    "print(Tyler.height)\n",
    "print(Tyler.weight)\n",
    "print(Tyler.age)"
   ]
  },
  {
   "cell_type": "markdown",
   "metadata": {},
   "source": [
    "---"
   ]
  }
 ],
 "metadata": {
  "anaconda-cloud": {},
  "kernelspec": {
   "display_name": "Python 3 (ipykernel)",
   "language": "python",
   "name": "python3"
  },
  "language_info": {
   "codemirror_mode": {
    "name": "ipython",
    "version": 3
   },
   "file_extension": ".py",
   "mimetype": "text/x-python",
   "name": "python",
   "nbconvert_exporter": "python",
   "pygments_lexer": "ipython3",
   "version": "3.8.8"
  }
 },
 "nbformat": 4,
 "nbformat_minor": 4
}
