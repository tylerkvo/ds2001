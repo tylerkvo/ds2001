{
 "cells": [
  {
   "cell_type": "markdown",
   "metadata": {},
   "source": [
    "### NumPy First Steps\n",
    "### University of Virginia\n",
    "### Programming for Data Science\n",
    "### Last Updated: March 22, 2021\n",
    "---  \n",
    "\n",
    "### PREREQUISITES\n",
    "- Part I\n",
    "  - import\n",
    "  - functions\n",
    "  - for ... in\n",
    "- Part II\n",
    "  - lists (for part II)\n",
    "  - hist (for part II)\n",
    "  - indexing\n",
    "- Part III\n",
    "  - [it's like Luke going into the cave on Dagobah](https://youtu.be/wTXV59f6m0g?t=70)\n",
    "\n",
    "### SOURCES \n",
    "- **Python for Data Analysis, Chapter 4 (be sure to read this)**\n",
    "- https://numpy.org/\n",
    "- https://en.wikipedia.org/wiki/NumPy\n",
    "- https://www.scipy.org/\n",
    "- https://en.wikipedia.org/wiki/SciPy\n",
    "- https://numpy.org/doc/stable/reference/generated/numpy.ndarray.html\n",
    "- https://matplotlib.org/stable/api/_as_gen/matplotlib.pyplot.hist.html\n",
    "- https://numpy.org/doc/stable/reference/random/index.html\n",
    "- https://docs.scipy.org/doc/numpy-1.15.1/reference/generated/numpy.random.randint.html\n",
    "\n",
    "\n",
    "\n",
    "\n",
    "### OBJECTIVES\n",
    "- Take your first steps with numpy\n",
    " \n",
    "\n",
    "\n",
    "### CONCEPTS\n",
    "\n",
    "- The numpy package contains useful functions for math operations\n",
    "- The ndarray is the workhorse of the package\n",
    "\n",
    "\n",
    "---\n",
    "\n",
    "### numpy\n",
    "\n",
    "In this lesson we will explore the python package numpy.  This package is super powerful but we will withold all of that for now. Our focus will be on importing and calling a couple functions to get oriented."
   ]
  },
  {
   "cell_type": "markdown",
   "metadata": {},
   "source": [
    "### Motivation\n",
    "\n",
    "I need a random number! I heard numpy can do that!  \n",
    "\n",
    "Be sure numpy is installed, or you'll see the error below:"
   ]
  },
  {
   "cell_type": "code",
   "execution_count": null,
   "metadata": {},
   "outputs": [],
   "source": [
    "import numpy as np\n",
    "np.random.randint(1,7)"
   ]
  },
  {
   "cell_type": "code",
   "execution_count": null,
   "metadata": {},
   "outputs": [],
   "source": [
    "# this is the remedy for the above error (NB: \"module not found ---> pip install or conda install\")\n",
    "!pip install numpy"
   ]
  },
  {
   "cell_type": "markdown",
   "metadata": {},
   "source": [
    "After installing the numpy package, everything is business as usual:"
   ]
  },
  {
   "cell_type": "code",
   "execution_count": null,
   "metadata": {},
   "outputs": [],
   "source": [
    "import numpy as np\n",
    "np.random.randint(1,7)"
   ]
  },
  {
   "cell_type": "markdown",
   "metadata": {},
   "source": [
    "Learn what this function does:"
   ]
  },
  {
   "cell_type": "code",
   "execution_count": null,
   "metadata": {},
   "outputs": [],
   "source": [
    "help(np.random.randint)"
   ]
  },
  {
   "cell_type": "markdown",
   "metadata": {},
   "source": [
    "### Motivation - (musical, click image for youtube)\n",
    "\n",
    "[![Dazed and Confused](http://i3.ytimg.com/vi/yO2n7QoyieM/hqdefault.jpg)](https://www.youtube.com/watch?v=yO2n7QoyieM \"Dazed and Confused\")"
   ]
  },
  {
   "cell_type": "markdown",
   "metadata": {},
   "source": [
    "---"
   ]
  },
  {
   "cell_type": "markdown",
   "metadata": {},
   "source": [
    "## Lesson: Part I - reading\n",
    "As always we start by reading the manual. Head over to https://numpy.org/, and complete the following checklist:\n",
    "* skim the page to see what's there, note any questions you have\n",
    "* go to the section with case studies, pick one, and read about it, note any questions you have\n",
    "* try to answer your questions\n",
    "  * reading the manual\n",
    "  * checking message boards\n",
    "  * check with your fellow students\n",
    "  * reach out to the professor during office hours\n",
    "* continue until you have no questions\n",
    "* explain to your grandmother what numpy is (or someone else as long as they aren't in this program, I'm assuming your grandmother isn't in our program)\n",
    "  * if your grandmother happens to be someone as cool as [Grace Hopper](https://en.wikipedia.org/wiki/Grace_Hopper) then please invite her to come and speak\n",
    "  * the approach of explaining to your grandmother is a technique often used by Albert Einstein, it shows you understand what you are talking about because we often have more difficulty lying to our grandmothers than to ourselves\n",
    "  \n",
    "* NB: we are going to do this process a lot: read, question, answer, explain. learn it, love it."
   ]
  },
  {
   "cell_type": "markdown",
   "metadata": {},
   "source": [
    "---"
   ]
  },
  {
   "cell_type": "markdown",
   "metadata": {},
   "source": [
    "# Lab Exercises\n",
    "TRY FOR YOURSELF (UNGRADED EXERCISES)"
   ]
  },
  {
   "cell_type": "markdown",
   "metadata": {},
   "source": [
    "### Exercise 1: first steps in generating data **(beginner)**"
   ]
  },
  {
   "cell_type": "markdown",
   "metadata": {},
   "source": [
    "Prompt: create 10 random integers ranging from 1 to 6 inclusive"
   ]
  },
  {
   "cell_type": "code",
   "execution_count": null,
   "metadata": {},
   "outputs": [],
   "source": [
    "# your solution here\n"
   ]
  },
  {
   "cell_type": "code",
   "execution_count": null,
   "metadata": {},
   "outputs": [],
   "source": [
    "# one solution\n",
    "import numpy as np\n",
    "np.random.randint(1,7)\n",
    "np.random.randint(1,7)\n",
    "np.random.randint(1,7)\n",
    "np.random.randint(1,7)\n",
    "np.random.randint(1,7)\n",
    "np.random.randint(1,7)\n",
    "np.random.randint(1,7)\n",
    "np.random.randint(1,7)\n",
    "np.random.randint(1,7)\n",
    "np.random.randint(1,7)"
   ]
  },
  {
   "cell_type": "code",
   "execution_count": null,
   "metadata": {},
   "outputs": [],
   "source": [
    "# another solution\n",
    "import numpy as np\n",
    "for i in range(10): print(np.random.randint(1,7)"
   ]
  },
  {
   "cell_type": "code",
   "execution_count": null,
   "metadata": {},
   "outputs": [],
   "source": [
    "# another solution, again, but without the syntax error\n",
    "import numpy as np\n",
    "for i in range(10): print(np.random.randint(1,7))"
   ]
  },
  {
   "cell_type": "code",
   "execution_count": null,
   "metadata": {},
   "outputs": [],
   "source": [
    "# another solution\n",
    "import numpy as np\n",
    "np.random.randint(1,7,10)"
   ]
  },
  {
   "cell_type": "markdown",
   "metadata": {},
   "source": [
    "#### end of exercise wrap up\n",
    "* Explain to your grandmother the differences in the example solutions.\n",
    "* Think about when you would use each one."
   ]
  },
  {
   "cell_type": "markdown",
   "metadata": {},
   "source": [
    "### Exercise 2: **(intermediate)**\n",
    "\n",
    "In this exercise we are going to explore the object that the function np.random.randint(...) returns. The array..."
   ]
  },
  {
   "cell_type": "code",
   "execution_count": null,
   "metadata": {},
   "outputs": [],
   "source": [
    "# import\n",
    "import numpy as np\n",
    "\n",
    "# first step, call our function and wrap it in the 'type' function to see what it returns\n",
    "print(np.random.randint(10))\n",
    "print(type(np.random.randint(10))) # this should return 'int'\n",
    "\n",
    "# now we change the input to the randint function\n",
    "print()\n",
    "print(np.random.randint(1,21,5))\n",
    "print(type(np.random.randint(1,21,5)))"
   ]
  },
  {
   "cell_type": "markdown",
   "metadata": {},
   "source": [
    "ok, let's break that down.\n",
    "\n",
    "The first call produces a number and we learn it is an 'int' aka integer.\n",
    "\n",
    "The second call produces something that looks like a list but we see that it is actually a 'numpy.ndarray'\n",
    "\n",
    "Read the [documentation](https://numpy.org/doc/stable/reference/generated/numpy.ndarray.html), write down questions, get those questions answered, explain what an ndarray is to your grandmother.\n"
   ]
  },
  {
   "cell_type": "markdown",
   "metadata": {},
   "source": [
    "**Prompt:** Make a [histogram](https://matplotlib.org/stable/api/_as_gen/matplotlib.pyplot.hist.html) based on the randint distribution to confirm that it is actually an random integer distribution."
   ]
  },
  {
   "cell_type": "code",
   "execution_count": null,
   "metadata": {},
   "outputs": [],
   "source": [
    "#!pip install matplotlib"
   ]
  },
  {
   "cell_type": "code",
   "execution_count": null,
   "metadata": {},
   "outputs": [],
   "source": [
    "import matplotlib\n",
    "import matplotlib.pyplot as plt\n",
    "\n",
    "%matplotlib inline\n",
    "\n",
    "#[INSERT CALL TO HISTOGRAM HERE]"
   ]
  },
  {
   "cell_type": "code",
   "execution_count": null,
   "metadata": {},
   "outputs": [],
   "source": [
    "# SOLUTION\n",
    "\n",
    "import matplotlib\n",
    "import matplotlib.pyplot as plt\n",
    "\n",
    "%matplotlib inline\n",
    "\n",
    "plt.hist(np.random.randint(1,21,100000),bins=20)"
   ]
  },
  {
   "cell_type": "markdown",
   "metadata": {},
   "source": [
    "#### end of exercise wrap up\n",
    "* Explain to your grandmother how your plot demonstrates the randint function is doing its job.\n",
    "* Try checking a different distribution like np.random.normal"
   ]
  },
  {
   "cell_type": "markdown",
   "metadata": {},
   "source": [
    "### Exercise 3: More NumPy ndarray Operations\n"
   ]
  },
  {
   "cell_type": "code",
   "execution_count": null,
   "metadata": {},
   "outputs": [],
   "source": [
    "# generate matrix of random normals\n",
    "\n",
    "x = np.random.randn(2, 3)\n",
    "x"
   ]
  },
  {
   "cell_type": "code",
   "execution_count": null,
   "metadata": {},
   "outputs": [],
   "source": [
    "help(np.random.randn)"
   ]
  },
  {
   "cell_type": "code",
   "execution_count": null,
   "metadata": {},
   "outputs": [],
   "source": [
    "x"
   ]
  },
  {
   "cell_type": "code",
   "execution_count": null,
   "metadata": {},
   "outputs": [],
   "source": [
    "# scale the matrix - notice how this operates elementwise\n",
    "\n",
    "x * 2"
   ]
  },
  {
   "cell_type": "code",
   "execution_count": null,
   "metadata": {},
   "outputs": [],
   "source": [
    "# addition\n",
    "\n",
    "x + x"
   ]
  },
  {
   "cell_type": "code",
   "execution_count": null,
   "metadata": {},
   "outputs": [],
   "source": [
    "# reciprocal\n",
    "\n",
    "1 / x"
   ]
  },
  {
   "cell_type": "markdown",
   "metadata": {},
   "source": [
    "#### Many ways to create new arrays"
   ]
  },
  {
   "cell_type": "code",
   "execution_count": null,
   "metadata": {},
   "outputs": [],
   "source": [
    "x=np.zeros(5)\n",
    "print(x)"
   ]
  },
  {
   "cell_type": "code",
   "execution_count": null,
   "metadata": {},
   "outputs": [],
   "source": [
    "x.shape"
   ]
  },
  {
   "cell_type": "code",
   "execution_count": null,
   "metadata": {},
   "outputs": [],
   "source": [
    "y=np.zeros([5,1])"
   ]
  },
  {
   "cell_type": "code",
   "execution_count": null,
   "metadata": {},
   "outputs": [],
   "source": [
    "y"
   ]
  },
  {
   "cell_type": "code",
   "execution_count": null,
   "metadata": {},
   "outputs": [],
   "source": [
    "y.shape"
   ]
  },
  {
   "cell_type": "code",
   "execution_count": null,
   "metadata": {},
   "outputs": [],
   "source": [
    "z=np.zeros([1,5])\n",
    "print(z)"
   ]
  },
  {
   "cell_type": "code",
   "execution_count": null,
   "metadata": {},
   "outputs": [],
   "source": [
    "z.shape"
   ]
  },
  {
   "cell_type": "code",
   "execution_count": null,
   "metadata": {},
   "outputs": [],
   "source": []
  },
  {
   "cell_type": "code",
   "execution_count": null,
   "metadata": {},
   "outputs": [],
   "source": [
    "q=np.zeros((2,3))\n",
    "print(q)"
   ]
  },
  {
   "cell_type": "code",
   "execution_count": null,
   "metadata": {},
   "outputs": [],
   "source": [
    "q.shape"
   ]
  },
  {
   "cell_type": "code",
   "execution_count": null,
   "metadata": {},
   "outputs": [],
   "source": [
    "np.ones((2,3))"
   ]
  },
  {
   "cell_type": "code",
   "execution_count": null,
   "metadata": {},
   "outputs": [],
   "source": [
    "np.identity(4)"
   ]
  },
  {
   "cell_type": "markdown",
   "metadata": {},
   "source": [
    "#### Indexing and Slicing"
   ]
  },
  {
   "cell_type": "code",
   "execution_count": null,
   "metadata": {},
   "outputs": [],
   "source": [
    "z = np.random.randn(5)\n",
    "z"
   ]
  },
  {
   "cell_type": "code",
   "execution_count": null,
   "metadata": {},
   "outputs": [],
   "source": [
    "# select from start to one before end\n",
    "z[1:4]"
   ]
  },
  {
   "cell_type": "code",
   "execution_count": null,
   "metadata": {},
   "outputs": [],
   "source": [
    "# does this make sense?\n",
    "z[1:-1]"
   ]
  },
  {
   "cell_type": "code",
   "execution_count": null,
   "metadata": {},
   "outputs": [],
   "source": [
    "# boolean indexing\n",
    "z[z>0.15]"
   ]
  },
  {
   "cell_type": "code",
   "execution_count": null,
   "metadata": {},
   "outputs": [],
   "source": [
    "# assignment\n",
    "z[1] = 3\n",
    "z"
   ]
  },
  {
   "cell_type": "code",
   "execution_count": null,
   "metadata": {},
   "outputs": [],
   "source": [
    "# 2D\n",
    "w = np.random.randn(3,3)\n",
    "w"
   ]
  },
  {
   "cell_type": "code",
   "execution_count": null,
   "metadata": {},
   "outputs": [],
   "source": [
    "# subset rows and columns\n",
    "w[1:, :2]"
   ]
  },
  {
   "cell_type": "markdown",
   "metadata": {},
   "source": [
    "#### TRY FOR YOURSELF\n",
    "Write code to generate a new array *w2* that starts with *w* and sets all negative values to 0.\n",
    "Then print *w2* and *w*.  \n",
    "\n",
    "Be sure to use:  \n",
    "w2 = w.copy()  \n",
    "or w will get updated as well"
   ]
  },
  {
   "cell_type": "code",
   "execution_count": null,
   "metadata": {},
   "outputs": [],
   "source": []
  },
  {
   "cell_type": "code",
   "execution_count": null,
   "metadata": {},
   "outputs": [],
   "source": []
  },
  {
   "cell_type": "code",
   "execution_count": null,
   "metadata": {},
   "outputs": [],
   "source": [
    "w2 = w.copy()\n",
    "w2[w2 < 0] = 0\n",
    "print('w2:\\n', w2)\n",
    "print('')\n",
    "print('w:\\n', w)"
   ]
  },
  {
   "cell_type": "markdown",
   "metadata": {},
   "source": [
    "### Exercise 4 (OPTIONAL): let's simulate risk **(advanced)**\n",
    "\n",
    "**Prompt:** In the classic board game Risk players control armies in a quest for [world domination](https://www.linuxjournal.com/article/3676). This catastrophic scenario is governed by the roll of dice. In a battle each side rolls dice and then casualties are assigned. The goal of this exercise is to simulate a battle in the game of risk. An army of _N_ units is attacking another army of _N_ units. The question to answer is, who is more likely to win for all values of _N_ between 5 and 50? Assume the attacker always attacks with the full number of armies and the defender defends with the full number of armies, no retreating.\n",
    "\n",
    "* NB: Please share your solutions on github. Collaboration is strongly encouraged."
   ]
  },
  {
   "cell_type": "markdown",
   "metadata": {},
   "source": [
    "For full details of the game, please consult: [The Classic Board Game Risk](https://en.wikipedia.org/wiki/Risk_(game))\n",
    "\n",
    "If you would like to discuss further, please contact the author, Pete Alonzi: lpa2a@virginia.edu"
   ]
  },
  {
   "cell_type": "markdown",
   "metadata": {},
   "source": [
    "##### solution\n",
    "\n",
    "As if I was going to give a solution here, where would the fun be :) However I will offer some tips. I found making some functions to be useful. For example:"
   ]
  },
  {
   "cell_type": "code",
   "execution_count": null,
   "metadata": {},
   "outputs": [],
   "source": [
    "def rollDice(n):\n",
    "    ''' This function returns a sorted list of integers of length n. Each integer is from 1 to 6 inclusive. '''\n",
    "    x = np.random.randint(1,7,n)\n",
    "    x = x.tolist()\n",
    "    return sorted(x,reverse=True)\n",
    "\n",
    "print(rollDice(3))"
   ]
  },
  {
   "cell_type": "markdown",
   "metadata": {},
   "source": [
    "#### end of exercise wrap up\n",
    "* Make a plot showing the probability of victory for the attacker as a function of _N_.\n",
    "* Explain the plot to your grandmother.\n",
    "\n",
    "* NB: the wrap up has nothing to do with the coding or numpy, but everything to do with solving the problem in the prompt."
   ]
  },
  {
   "cell_type": "markdown",
   "metadata": {},
   "source": [
    "### victory lap (click image for youtube)\n",
    "[![Everything Is AWESOME](https://img.youtube.com/vi/StTqXEQ2l-Y/0.jpg)](https://www.youtube.com/watch?v=StTqXEQ2l-Y \"Everything Is AWESOME\")"
   ]
  },
  {
   "cell_type": "markdown",
   "metadata": {},
   "source": [
    "---"
   ]
  },
  {
   "cell_type": "markdown",
   "metadata": {},
   "source": [
    "## What to focus on for proficiency\n",
    "\n",
    "To develop better practice with numpy ask yourself the following question while you are coding.\n",
    "\n",
    "\n",
    "* **Is there a numpy routine for that?**\n",
    "\n",
    "\n",
    "If you are unfamiliar with the inner game focus approach, check out: [The Inner Game of Tennis by Gallwey](https://search.lib.virginia.edu/sources/uva_library/items/u619947)"
   ]
  },
  {
   "cell_type": "code",
   "execution_count": null,
   "metadata": {},
   "outputs": [],
   "source": []
  }
 ],
 "metadata": {
  "anaconda-cloud": {},
  "kernelspec": {
   "display_name": "Python 3 (ipykernel)",
   "language": "python",
   "name": "python3"
  },
  "language_info": {
   "codemirror_mode": {
    "name": "ipython",
    "version": 3
   },
   "file_extension": ".py",
   "mimetype": "text/x-python",
   "name": "python",
   "nbconvert_exporter": "python",
   "pygments_lexer": "ipython3",
   "version": "3.8.8"
  }
 },
 "nbformat": 4,
 "nbformat_minor": 4
}
