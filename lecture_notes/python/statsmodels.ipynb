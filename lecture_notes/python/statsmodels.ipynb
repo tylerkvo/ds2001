{
 "cells": [
  {
   "cell_type": "markdown",
   "metadata": {},
   "source": [
    "## statsmodels\n",
    "### University of Virginia\n",
    "### Programming for Data Science\n",
    "### Last Updated: October 3, 2021\n",
    "---  \n",
    "\n",
    "### PREREQUISITES\n",
    "- variables\n",
    "- data types\n",
    "- pandas\n",
    "\n",
    "### SOURCES \n",
    "- https://www.statsmodels.org/stable/index.html\n",
    "\n",
    "### OBJECTIVES\n",
    "- Introduce some basic functionality of the `statsmodels` package\n",
    "- Illustrate how to fit a regression model with `statsmodels`\n",
    " \n",
    "\n",
    "\n",
    "### CONCEPTS\n",
    "- `statsmodels` interfaces\n",
    "\n",
    "\n",
    "---"
   ]
  },
  {
   "cell_type": "markdown",
   "metadata": {},
   "source": [
    "### Introduction to statsmodels \n",
    "\n",
    "The `statsmodels` allows users to build various statistical models including:\n",
    "\n",
    "- ols regression\n",
    "- gls regression\n",
    "- wls regression\n",
    "- linear mixed-effects models\n",
    "\n",
    "The model output looks similar to the R programming language. It includes standard errors and p-values, for example.  \n",
    "This is in contrast to the `scikit-learn` module, which has a focus on machine learning and omits standard errors and p-values.\n",
    "\n",
    "`statsmodels` supports two different interfaces for constructing models: \n",
    "\n",
    "- R-style formulas using the `statsmodels.formula.api`\n",
    "- pandas dataframes using the `statsmodels.api` package"
   ]
  },
  {
   "cell_type": "markdown",
   "metadata": {},
   "source": [
    "### OLS Regression Example\n",
    "\n",
    "We briefly outline some functionality with a regression example."
   ]
  },
  {
   "cell_type": "code",
   "execution_count": null,
   "metadata": {},
   "outputs": [],
   "source": [
    "import matplotlib.pyplot as plt\n",
    "import numpy as np\n",
    "import pandas as pd\n",
    "import seaborn as sns\n",
    "import statsmodels.api as sm\n",
    "import statsmodels.formula.api as smf"
   ]
  },
  {
   "cell_type": "markdown",
   "metadata": {},
   "source": [
    "Import a wine quality dataset from UCI. Note the separator ; or the data doesn't parse into columns."
   ]
  },
  {
   "cell_type": "code",
   "execution_count": null,
   "metadata": {},
   "outputs": [],
   "source": [
    "url = 'http://archive.ics.uci.edu/ml/machine-learning-databases/wine-quality/winequality-white.csv'\n",
    "df = pd.read_csv(url, sep=';')\n",
    "df.head()"
   ]
  },
  {
   "cell_type": "code",
   "execution_count": null,
   "metadata": {},
   "outputs": [],
   "source": [
    "df.dtypes"
   ]
  },
  {
   "cell_type": "markdown",
   "metadata": {},
   "source": [
    "Treat `quality` as response. Let's look at the counts of unique values."
   ]
  },
  {
   "cell_type": "code",
   "execution_count": null,
   "metadata": {},
   "outputs": [],
   "source": [
    "df.quality.value_counts()"
   ]
  },
  {
   "cell_type": "markdown",
   "metadata": {},
   "source": [
    "Notice there is a relatively small number of levels. This could be modeled using a classification model or a regression model.  \n",
    "For predictions from a regression model, it makes sense to round and clip values, yielding a result in [3,9]."
   ]
  },
  {
   "cell_type": "markdown",
   "metadata": {},
   "source": [
    "**FORMULA INTERFACE**"
   ]
  },
  {
   "cell_type": "markdown",
   "metadata": {},
   "source": [
    "We can pass an R-style formula to specify the model\n",
    "\n",
    "Fit regression model and print a summary:"
   ]
  },
  {
   "cell_type": "code",
   "execution_count": null,
   "metadata": {},
   "outputs": [],
   "source": [
    "results = smf.ols('quality ~ alcohol + pH', data=df).fit()\n",
    "\n",
    "print(results.summary())"
   ]
  },
  {
   "cell_type": "markdown",
   "metadata": {},
   "source": [
    "List the attributes in the model"
   ]
  },
  {
   "cell_type": "code",
   "execution_count": null,
   "metadata": {},
   "outputs": [],
   "source": [
    "dir(results)"
   ]
  },
  {
   "cell_type": "markdown",
   "metadata": {},
   "source": [
    "Inspect some attributes"
   ]
  },
  {
   "cell_type": "code",
   "execution_count": null,
   "metadata": {},
   "outputs": [],
   "source": [
    "# model parameters\n",
    "results.params"
   ]
  },
  {
   "cell_type": "markdown",
   "metadata": {},
   "source": [
    "Extract parameter values using index value or name (they are stored in a pandas Series):"
   ]
  },
  {
   "cell_type": "code",
   "execution_count": null,
   "metadata": {},
   "outputs": [],
   "source": [
    "# pH\n",
    "results.params[2]"
   ]
  },
  {
   "cell_type": "code",
   "execution_count": null,
   "metadata": {},
   "outputs": [],
   "source": [
    "results.params['pH']"
   ]
  },
  {
   "cell_type": "markdown",
   "metadata": {},
   "source": [
    "Diagnostics: plot fitted vs residuals"
   ]
  },
  {
   "cell_type": "code",
   "execution_count": null,
   "metadata": {},
   "outputs": [],
   "source": [
    "sns.scatterplot(results.resid, results.fittedvalues)\n",
    "plt.title('Fitted vs Residuals')\n",
    "plt.xlabel('residuals')\n",
    "plt.ylabel('fitted')"
   ]
  },
  {
   "cell_type": "markdown",
   "metadata": {},
   "source": [
    "**PANDAS INTERFACE**  \n",
    "We can subset the pandas dataframe to pass data to the model fitter"
   ]
  },
  {
   "cell_type": "code",
   "execution_count": null,
   "metadata": {},
   "outputs": [],
   "source": [
    "# build the design matrix X\n",
    "X = df[['alcohol','pH']]\n",
    "\n",
    "# append column of 1s to design matrix for intercept term\n",
    "X = sm.add_constant(X) \n",
    "print('X:\\n', X.values)\n",
    "\n",
    "# build the response vector y\n",
    "y = df.quality\n",
    "\n",
    "print('\\n')\n",
    "print('y:\\n', y.values)"
   ]
  },
  {
   "cell_type": "markdown",
   "metadata": {},
   "source": [
    "Fit the regression model and show the results. They match the results from the formula interface, as expected."
   ]
  },
  {
   "cell_type": "code",
   "execution_count": null,
   "metadata": {},
   "outputs": [],
   "source": [
    "results = sm.OLS(y, X).fit()\n",
    "\n",
    "print(results.summary())"
   ]
  },
  {
   "cell_type": "markdown",
   "metadata": {},
   "source": [
    "---"
   ]
  },
  {
   "cell_type": "markdown",
   "metadata": {},
   "source": [
    "#### TRY FOR YOURSELF\n",
    "Do the following:\n",
    "\n",
    "- Import your own dataset\n",
    "- Use `statsmodels` to fit a model using the formula interface\n",
    "- Use `statsmodels` to fit a model using the pandas interface\n",
    "- Do some diagnostic checking (e.g., plot the residuals from the model)"
   ]
  },
  {
   "cell_type": "code",
   "execution_count": null,
   "metadata": {},
   "outputs": [],
   "source": []
  },
  {
   "cell_type": "markdown",
   "metadata": {},
   "source": [
    "---  "
   ]
  }
 ],
 "metadata": {
  "anaconda-cloud": {},
  "kernelspec": {
   "display_name": "Python 3",
   "language": "python",
   "name": "python3"
  },
  "language_info": {
   "codemirror_mode": {
    "name": "ipython",
    "version": 3
   },
   "file_extension": ".py",
   "mimetype": "text/x-python",
   "name": "python",
   "nbconvert_exporter": "python",
   "pygments_lexer": "ipython3",
   "version": "3.7.4"
  }
 },
 "nbformat": 4,
 "nbformat_minor": 4
}
