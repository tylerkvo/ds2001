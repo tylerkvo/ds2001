{
 "cells": [
  {
   "cell_type": "markdown",
   "metadata": {},
   "source": [
    "## Visualization\n",
    "### University of Virginia\n",
    "### Programming for Data Science\n",
    "### Last Updated: October 7, 2021\n",
    "---  \n",
    "\n",
    "### PREREQUISITES\n",
    "- variables\n",
    "- data types\n",
    "- pandas\n",
    "\n",
    "### SOURCES \n",
    "- https://matplotlib.org/\n",
    "- https://seaborn.pydata.org/\n",
    "\n",
    "### OBJECTIVES\n",
    "- Introduce some basic functionality of the `matplotlib` package\n",
    "- Introduce some basic functionality of the `seaborn` package\n",
    "\n",
    "### CONCEPTS\n",
    "- various visualization types\n",
    "- adding layers to figures\n",
    "\n",
    "---"
   ]
  },
  {
   "cell_type": "markdown",
   "metadata": {},
   "source": [
    "### Load packages and import some data"
   ]
  },
  {
   "cell_type": "code",
   "execution_count": null,
   "metadata": {},
   "outputs": [],
   "source": [
    "import matplotlib.pyplot as plt\n",
    "import numpy as np\n",
    "import pandas as pd\n",
    "import seaborn as sns"
   ]
  },
  {
   "cell_type": "markdown",
   "metadata": {},
   "source": [
    "Import a wine quality dataset from UCI. Note the separator ; or the data doesn't parse into columns."
   ]
  },
  {
   "cell_type": "code",
   "execution_count": null,
   "metadata": {},
   "outputs": [],
   "source": [
    "url = 'http://archive.ics.uci.edu/ml/machine-learning-databases/wine-quality/winequality-white.csv'\n",
    "df = pd.read_csv(url, sep=';')\n",
    "df.head()"
   ]
  },
  {
   "cell_type": "markdown",
   "metadata": {},
   "source": [
    "### Matplotlib Intro\n",
    "\n",
    "Matplotlib is a comprehensive library for creating static, animated, and interactive visualizations in Python.\n",
    "\n",
    "Below are some quick examples. See documentation for more details and examples.\n",
    "\n",
    "plt.[figtype] for some [figtype] will create the figure.\n",
    "\n",
    "You can layer on details such as titles, a legend, etc."
   ]
  },
  {
   "cell_type": "markdown",
   "metadata": {},
   "source": [
    "**Example 1**: Scatterplot w wine data"
   ]
  },
  {
   "cell_type": "code",
   "execution_count": null,
   "metadata": {},
   "outputs": [],
   "source": [
    "plt.scatter(df.pH, df.density)\n",
    "plt.title('pH vs density')\n",
    "plt.xlabel('pH') \n",
    "plt.ylabel('density') \n",
    "plt.grid()"
   ]
  },
  {
   "cell_type": "markdown",
   "metadata": {},
   "source": [
    "**Example 2**: Line plot w synthetic data\n",
    "\n",
    "This example saves the figure to a png file."
   ]
  },
  {
   "cell_type": "code",
   "execution_count": null,
   "metadata": {},
   "outputs": [],
   "source": [
    "# Data for plotting\n",
    "t = np.arange(0.0, 10.0, 0.01)\n",
    "exp_fn = 1 / np.exp(t)\n",
    "\n",
    "fig, ax = plt.subplots()\n",
    "ax.plot(t, exp_fn)\n",
    "\n",
    "ax.set(xlabel='time (s)', ylabel='response',\n",
    "       title='Exponential function over time')\n",
    "ax.grid()\n",
    "\n",
    "fig.savefig(\"test.png\")"
   ]
  },
  {
   "cell_type": "markdown",
   "metadata": {},
   "source": [
    "**Example 3**: Several lineplots at once\n",
    "\n",
    "`plt.subplot(nrows, ncols, index)` allows you to create several figures at once."
   ]
  },
  {
   "cell_type": "code",
   "execution_count": null,
   "metadata": {},
   "outputs": [],
   "source": [
    "# generate some data\n",
    "x1 = np.linspace(0.0, 5.0)\n",
    "x2 = np.linspace(0.0, 5.0)\n",
    "\n",
    "y1 = np.sin(2 * np.pi * x1) * np.exp(-x1)\n",
    "y2 = np.sin(2 * np.pi * x2)\n",
    "\n",
    "# two rows, one column, first figure\n",
    "plt.subplot(2, 1, 1)\n",
    "plt.plot(x1, y1, 'o-')\n",
    "plt.title('Two subplots') # this is main title of figures\n",
    "plt.ylabel('Damped oscillation')\n",
    "\n",
    "# two rows, one column, second figure\n",
    "plt.subplot(2, 1, 2)\n",
    "plt.plot(x2, y2, '.-')\n",
    "plt.xlabel('time (s)')\n",
    "plt.ylabel('Undamped')\n",
    "plt.show()"
   ]
  },
  {
   "cell_type": "markdown",
   "metadata": {},
   "source": [
    "---"
   ]
  },
  {
   "cell_type": "markdown",
   "metadata": {},
   "source": [
    "#### TRY FOR YOURSELF\n",
    "Do the following:\n",
    "\n",
    "- Use `matplotlib` to create your own visualizations based on the wine data\n",
    "- Challenge: Given response variable y and a list of X variables, write a loop that builds graphs of y versus each x in X.  \n",
    "  Hint: include `plt.show()` after each graph to show them all together."
   ]
  },
  {
   "cell_type": "code",
   "execution_count": null,
   "metadata": {},
   "outputs": [],
   "source": []
  },
  {
   "cell_type": "code",
   "execution_count": null,
   "metadata": {
    "jupyter": {
     "source_hidden": true
    }
   },
   "outputs": [],
   "source": [
    "y = df.pH\n",
    "X = ['chlorides','citric acid','density']\n",
    "\n",
    "nrows = len(X)\n",
    "\n",
    "for row in range(nrows):\n",
    "    plt.subplot(nrows, row+1, 1)\n",
    "    plt.scatter(df[X[row]], y)\n",
    "    plt.title('pH vs {}'.format(X[row]))\n",
    "    plt.xlabel(X[row]) \n",
    "    plt.ylabel('pH') \n",
    "    plt.show()\n"
   ]
  },
  {
   "cell_type": "markdown",
   "metadata": {},
   "source": [
    "---  "
   ]
  },
  {
   "cell_type": "markdown",
   "metadata": {},
   "source": [
    "### Seaborn Intro\n",
    "\n",
    "Seaborn is a nice visualization library based on matplotlib.  \n",
    "The graphs are generally more appealing than matplotlib."
   ]
  },
  {
   "cell_type": "code",
   "execution_count": null,
   "metadata": {},
   "outputs": [],
   "source": [
    "import seaborn as sns"
   ]
  },
  {
   "cell_type": "code",
   "execution_count": null,
   "metadata": {},
   "outputs": [],
   "source": []
  },
  {
   "cell_type": "markdown",
   "metadata": {},
   "source": [
    "**Example 4**: Revisit scatterplot w wine data\n",
    "\n",
    "Notice how parameters `data`, `x`, and `y` are used."
   ]
  },
  {
   "cell_type": "code",
   "execution_count": null,
   "metadata": {},
   "outputs": [],
   "source": [
    "sns.scatterplot(data=df, x=\"pH\", y=\"density\")"
   ]
  },
  {
   "cell_type": "markdown",
   "metadata": {},
   "source": [
    "Changing the type of plot is straightforward: change the function name, while keeping parameters the same."
   ]
  },
  {
   "cell_type": "markdown",
   "metadata": {},
   "source": [
    "**Example 5**: Jointplot w wine data. This builds the scatterplot and histograms for each variable."
   ]
  },
  {
   "cell_type": "code",
   "execution_count": null,
   "metadata": {},
   "outputs": [],
   "source": [
    "sns.jointplot(data=df, x=\"pH\", y=\"density\")"
   ]
  },
  {
   "cell_type": "markdown",
   "metadata": {},
   "source": [
    "**Example 6**: Jointplot w wine data, adding regression fit and changing color.\n",
    "\n",
    "`kind=\"reg\"` adds the regression functionality"
   ]
  },
  {
   "cell_type": "code",
   "execution_count": null,
   "metadata": {},
   "outputs": [],
   "source": [
    "sns.jointplot(data=df, x=\"pH\", y=\"density\",\n",
    "              kind=\"reg\", truncate=False,\n",
    "              color=\"m\", height=7)"
   ]
  },
  {
   "cell_type": "markdown",
   "metadata": {},
   "source": [
    "---"
   ]
  },
  {
   "cell_type": "markdown",
   "metadata": {},
   "source": [
    "#### TRY FOR YOURSELF\n",
    "Do the following:\n",
    "\n",
    "- Use `seaborn` to create your own visualizations based on the wine data"
   ]
  },
  {
   "cell_type": "code",
   "execution_count": null,
   "metadata": {},
   "outputs": [],
   "source": []
  },
  {
   "cell_type": "markdown",
   "metadata": {},
   "source": [
    "---"
   ]
  }
 ],
 "metadata": {
  "anaconda-cloud": {},
  "kernelspec": {
   "display_name": "Python 3",
   "language": "python",
   "name": "python3"
  },
  "language_info": {
   "codemirror_mode": {
    "name": "ipython",
    "version": 3
   },
   "file_extension": ".py",
   "mimetype": "text/x-python",
   "name": "python",
   "nbconvert_exporter": "python",
   "pygments_lexer": "ipython3",
   "version": "3.7.4"
  }
 },
 "nbformat": 4,
 "nbformat_minor": 4
}
