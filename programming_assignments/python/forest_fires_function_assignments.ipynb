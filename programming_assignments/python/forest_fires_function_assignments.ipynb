{
 "cells": [
  {
   "cell_type": "markdown",
   "metadata": {},
   "source": [
    "## Fighting Forest Fires with Functions\n",
    "\n",
    "\n",
    "### University of Virginia\n",
    "### Programming for Data Science\n",
    "### Last Updated: July 26, 2021\n",
    "---"
   ]
  },
  {
   "cell_type": "markdown",
   "metadata": {},
   "source": [
    "### Objectives: \n",
    "- Work with functions (built-in and user-defined), lambda functions, and list comprehensions\n",
    "\n",
    "### Executive Summary\n",
    "\n",
    "\n",
    "You will work with the Forest Fires Data Set from UCI.  \n",
    "\n",
    "Information about the dataset: https://archive.ics.uci.edu/ml/datasets/Forest+Fires\n",
    "\n",
    "Background: This dataset was used in a regression task, where the aim was to predict the burned area of forest fires, in the northeast region of Portugal, by using meteorological and other data.\n",
    "\n",
    "We will apply some of the steps leading to an ML task."
   ]
  },
  {
   "cell_type": "markdown",
   "metadata": {},
   "source": [
    "### Instructions\n",
    "\n",
    "Run the pre-populated code, and along the way, you will be asked to perform several graded tasks <span style=\"color:blue\">(prompted in blue font)</span>.  \n",
    "Show your code and solutions clearly in the cells following each question.   \n",
    "When the file is completed, submit the notebook through Collab.\n",
    "\n",
    "**TOTAL POINTS: 14**\n",
    "\n",
    "---\n"
   ]
  },
  {
   "cell_type": "code",
   "execution_count": 7,
   "metadata": {},
   "outputs": [],
   "source": [
    "import pandas as pd\n",
    "import numpy as np"
   ]
  },
  {
   "cell_type": "markdown",
   "metadata": {},
   "source": [
    "#### Read in the dataset from the UCI Machine Learning Repository  "
   ]
  },
  {
   "cell_type": "code",
   "execution_count": 8,
   "metadata": {},
   "outputs": [],
   "source": [
    "path_to_data = \"https://archive.ics.uci.edu/ml/machine-learning-databases/forest-fires/forestfires.csv\"\n",
    "fire = pd.read_csv(path_to_data)"
   ]
  },
  {
   "cell_type": "code",
   "execution_count": 9,
   "metadata": {},
   "outputs": [
    {
     "data": {
      "text/html": [
       "<div>\n",
       "<style scoped>\n",
       "    .dataframe tbody tr th:only-of-type {\n",
       "        vertical-align: middle;\n",
       "    }\n",
       "\n",
       "    .dataframe tbody tr th {\n",
       "        vertical-align: top;\n",
       "    }\n",
       "\n",
       "    .dataframe thead th {\n",
       "        text-align: right;\n",
       "    }\n",
       "</style>\n",
       "<table border=\"1\" class=\"dataframe\">\n",
       "  <thead>\n",
       "    <tr style=\"text-align: right;\">\n",
       "      <th></th>\n",
       "      <th>X</th>\n",
       "      <th>Y</th>\n",
       "      <th>month</th>\n",
       "      <th>day</th>\n",
       "      <th>FFMC</th>\n",
       "      <th>DMC</th>\n",
       "      <th>DC</th>\n",
       "      <th>ISI</th>\n",
       "      <th>temp</th>\n",
       "      <th>RH</th>\n",
       "      <th>wind</th>\n",
       "      <th>rain</th>\n",
       "      <th>area</th>\n",
       "    </tr>\n",
       "  </thead>\n",
       "  <tbody>\n",
       "    <tr>\n",
       "      <th>0</th>\n",
       "      <td>7</td>\n",
       "      <td>5</td>\n",
       "      <td>mar</td>\n",
       "      <td>fri</td>\n",
       "      <td>86.2</td>\n",
       "      <td>26.2</td>\n",
       "      <td>94.3</td>\n",
       "      <td>5.1</td>\n",
       "      <td>8.2</td>\n",
       "      <td>51</td>\n",
       "      <td>6.7</td>\n",
       "      <td>0.0</td>\n",
       "      <td>0.0</td>\n",
       "    </tr>\n",
       "    <tr>\n",
       "      <th>1</th>\n",
       "      <td>7</td>\n",
       "      <td>4</td>\n",
       "      <td>oct</td>\n",
       "      <td>tue</td>\n",
       "      <td>90.6</td>\n",
       "      <td>35.4</td>\n",
       "      <td>669.1</td>\n",
       "      <td>6.7</td>\n",
       "      <td>18.0</td>\n",
       "      <td>33</td>\n",
       "      <td>0.9</td>\n",
       "      <td>0.0</td>\n",
       "      <td>0.0</td>\n",
       "    </tr>\n",
       "    <tr>\n",
       "      <th>2</th>\n",
       "      <td>7</td>\n",
       "      <td>4</td>\n",
       "      <td>oct</td>\n",
       "      <td>sat</td>\n",
       "      <td>90.6</td>\n",
       "      <td>43.7</td>\n",
       "      <td>686.9</td>\n",
       "      <td>6.7</td>\n",
       "      <td>14.6</td>\n",
       "      <td>33</td>\n",
       "      <td>1.3</td>\n",
       "      <td>0.0</td>\n",
       "      <td>0.0</td>\n",
       "    </tr>\n",
       "  </tbody>\n",
       "</table>\n",
       "</div>"
      ],
      "text/plain": [
       "   X  Y month  day  FFMC   DMC     DC  ISI  temp  RH  wind  rain  area\n",
       "0  7  5   mar  fri  86.2  26.2   94.3  5.1   8.2  51   6.7   0.0   0.0\n",
       "1  7  4   oct  tue  90.6  35.4  669.1  6.7  18.0  33   0.9   0.0   0.0\n",
       "2  7  4   oct  sat  90.6  43.7  686.9  6.7  14.6  33   1.3   0.0   0.0"
      ]
     },
     "execution_count": 9,
     "metadata": {},
     "output_type": "execute_result"
    }
   ],
   "source": [
    "fire.head(3)"
   ]
  },
  {
   "cell_type": "markdown",
   "metadata": {},
   "source": [
    "**Working with spatial coordinates X, Y**\n",
    "\n",
    "X - x-axis spatial coordinate within the Montesinho park map: 1 to 9  \n",
    "Y - y-axis spatial coordinate within the Montesinho park map: 2 to 9"
   ]
  },
  {
   "cell_type": "code",
   "execution_count": 10,
   "metadata": {},
   "outputs": [],
   "source": [
    "# extract the spatial coords\n",
    "\n",
    "X, Y = fire.X.values, fire.Y.values"
   ]
  },
  {
   "cell_type": "markdown",
   "metadata": {},
   "source": [
    "**<span style=\"color:blue\">(2 PTS) 1. Write a function called `coord_builder()` with these requirements:</span>**\n",
    "\n",
    "- takes X, Y as inputs\n",
    "- contains a docstring with short description of the function\n",
    "- uses the zip() function (details: https://realpython.com/python-zip-function/)\n",
    "- builds and returns a list of tuples [(x1,y1), (x2,y2), ..., (xn,yn)] where (xi,yi) are the ordered pairs from X, Y\n",
    "\n",
    "Hint: You'll need to call list() on the zipped object to show the results\n"
   ]
  },
  {
   "cell_type": "code",
   "execution_count": 11,
   "metadata": {},
   "outputs": [],
   "source": [
    "def coord_builder(x,y):\n",
    "    \"\"\"\n",
    "    PURPOSE: Given two colomns, create a list of ordered pairs\n",
    "    \n",
    "    INPUTS\n",
    "    x  int\n",
    "    y  int\n",
    "    \n",
    "    OUTPUT\n",
    "    list  list of tuples\n",
    "    \"\"\"\n",
    "    zipped = list(zip(x,y))\n",
    "    return zipped"
   ]
  },
  {
   "cell_type": "markdown",
   "metadata": {},
   "source": [
    "**<span style=\"color:blue\">(1 PT) 2. Call your `coord_builder()` function, passing in X, Y.  \n",
    "    Please subset the returned list to show a list with only the FIRST FIVE TUPLES. </span>**"
   ]
  },
  {
   "cell_type": "code",
   "execution_count": 14,
   "metadata": {},
   "outputs": [
    {
     "data": {
      "text/plain": [
       "[(7, 5), (7, 4), (7, 4), (8, 6), (8, 6)]"
      ]
     },
     "execution_count": 14,
     "metadata": {},
     "output_type": "execute_result"
    }
   ],
   "source": [
    "coord_builder(X,Y)[0:5]"
   ]
  },
  {
   "cell_type": "markdown",
   "metadata": {},
   "source": [
    "**Working with AREA**"
   ]
  },
  {
   "cell_type": "code",
   "execution_count": 15,
   "metadata": {},
   "outputs": [],
   "source": [
    "# extract values for area\n",
    "area = fire.area.values"
   ]
  },
  {
   "cell_type": "markdown",
   "metadata": {},
   "source": [
    "**<span style=\"color:blue\">(1 PT) 3. Write code to print the minimum area and maximum area in a tuple\n",
    "(min_value, max_value) where the min_value, max_value are floats.</span>** "
   ]
  },
  {
   "cell_type": "code",
   "execution_count": 22,
   "metadata": {},
   "outputs": [
    {
     "name": "stdout",
     "output_type": "stream",
     "text": [
      "0.0 1090.84\n"
     ]
    }
   ],
   "source": [
    "min_area = min(area)\n",
    "max_area = max(area)\n",
    "print(min_area,max_area)"
   ]
  },
  {
   "cell_type": "markdown",
   "metadata": {},
   "source": [
    "**<span style=\"color:blue\">(2 PTS) 4. Write a lambda function that computes the following transformation of a variable:</span>**   \n",
    "```    \n",
    "    logarithm(base10) of [1 + x]\n",
    "```\n",
    "\n",
    "**<span style=\"color:blue\">Then call the lambda function on *area*, printing the LAST 10 values.</span>**  \n",
    "Hint: numpy has a function that can be applied to an array."
   ]
  },
  {
   "cell_type": "code",
   "execution_count": 24,
   "metadata": {},
   "outputs": [
    {
     "name": "stdout",
     "output_type": "stream",
     "text": [
      "[0.         0.         0.50105926 0.15533604 0.         0.87157294\n",
      " 1.74264659 1.08493357 0.         0.        ]\n"
     ]
    }
   ],
   "source": [
    "log_base_10 = (lambda x: np.log10(1+x))\n",
    "print(log_base_10(area)[-10:])"
   ]
  },
  {
   "cell_type": "markdown",
   "metadata": {},
   "source": [
    "**Working with MONTH**\n",
    "\n",
    "month - month of the year: 'jan' to 'dec'"
   ]
  },
  {
   "cell_type": "code",
   "execution_count": 25,
   "metadata": {},
   "outputs": [],
   "source": [
    "month = fire.month.values"
   ]
  },
  {
   "cell_type": "markdown",
   "metadata": {},
   "source": [
    "**<span style=\"color:blue\">(1 PT) 5. Call the `unique()` function (from the numpy package) on *month*, printing the unique months:</span>**   "
   ]
  },
  {
   "cell_type": "code",
   "execution_count": 27,
   "metadata": {},
   "outputs": [
    {
     "name": "stdout",
     "output_type": "stream",
     "text": [
      "['apr' 'aug' 'dec' 'feb' 'jan' 'jul' 'jun' 'mar' 'may' 'nov' 'oct' 'sep']\n"
     ]
    }
   ],
   "source": [
    "print(np.unique(month))"
   ]
  },
  {
   "cell_type": "markdown",
   "metadata": {},
   "source": [
    "**<span style=\"color:blue\">(1 PT) 6. Write a list comprehension to select all months starting with letter 'a' from *month*.   \n",
    "    Next, call set() on the result, to get the unique months starting with letter 'a'. Print this result.</span>**   "
   ]
  },
  {
   "cell_type": "code",
   "execution_count": 29,
   "metadata": {},
   "outputs": [
    {
     "name": "stdout",
     "output_type": "stream",
     "text": [
      "{'aug', 'apr'}\n"
     ]
    }
   ],
   "source": [
    "a_from_month =  [x for x in month if x[0]== \"a\"]\n",
    "print(set(a_from_month))"
   ]
  },
  {
   "cell_type": "markdown",
   "metadata": {},
   "source": [
    "**Working with DMC**  \n",
    "DMC - DMC index from the FWI system: 1.1 to 291.3  "
   ]
  },
  {
   "cell_type": "code",
   "execution_count": 30,
   "metadata": {},
   "outputs": [],
   "source": [
    "dmc = fire.DMC.values"
   ]
  },
  {
   "cell_type": "markdown",
   "metadata": {},
   "source": [
    "**<span style=\"color:blue\">(2 PTS) 7. Write a function called `bandpass_filter()` with these requirements:</span>**\n",
    "\n",
    "- takes three inputs: \n",
    "  - a numpy array to be filtered\n",
    "  - an integer serving as a lower bound L\n",
    "  - an integer serving as an upper bound U\n",
    "- returns a new array containing only the values from the original array which are greater than L AND less than U"
   ]
  },
  {
   "cell_type": "code",
   "execution_count": 31,
   "metadata": {},
   "outputs": [],
   "source": [
    "def bandpass_filter(nparray, L, U):\n",
    "    \"\"\"\n",
    "    PURPOSE: Given 3 inputs, returns a new array containing only the values from the original array which are greater than L AND less than U\n",
    "    \n",
    "    INPUTS\n",
    "    nparray  array to be filtered\n",
    "    L   an integer serving as a lower bound\n",
    "    U   an integer serving as an upper bound\n",
    "    \n",
    "    OUTPUT\n",
    "    array  a new array containing only the values from the original array which are greater than L AND less than U\n",
    "    \"\"\"\n",
    "    new_array = [x for x in nparray if x > L and x< U]\n",
    "    return new_array\n",
    "    "
   ]
  },
  {
   "cell_type": "markdown",
   "metadata": {},
   "source": [
    "**<span style=\"color:blue\">(1 PT) 8. Call `bandpass_filter()` passing DMC as the array, L=25, U=35, printing the result. </span>**\n"
   ]
  },
  {
   "cell_type": "code",
   "execution_count": 32,
   "metadata": {},
   "outputs": [
    {
     "data": {
      "text/plain": [
       "[26.2,\n",
       " 33.3,\n",
       " 32.8,\n",
       " 27.9,\n",
       " 27.4,\n",
       " 25.7,\n",
       " 33.3,\n",
       " 33.3,\n",
       " 30.7,\n",
       " 33.3,\n",
       " 25.7,\n",
       " 25.7,\n",
       " 25.7,\n",
       " 32.8,\n",
       " 27.2,\n",
       " 27.8,\n",
       " 26.4,\n",
       " 25.4,\n",
       " 25.4,\n",
       " 25.4,\n",
       " 25.4,\n",
       " 26.7,\n",
       " 25.4,\n",
       " 27.5,\n",
       " 28.0,\n",
       " 25.4]"
      ]
     },
     "execution_count": 32,
     "metadata": {},
     "output_type": "execute_result"
    }
   ],
   "source": [
    "bandpass_filter(dmc, 25,35)"
   ]
  },
  {
   "cell_type": "markdown",
   "metadata": {},
   "source": [
    "**Working with FFMC**  \n",
    "FFMC - FFMC index from the FWI system: 18.7 to 96.20"
   ]
  },
  {
   "cell_type": "code",
   "execution_count": 34,
   "metadata": {},
   "outputs": [],
   "source": [
    "FFMC = fire.FFMC.values"
   ]
  },
  {
   "cell_type": "markdown",
   "metadata": {},
   "source": [
    "**<span style=\"color:blue\">(2 PTS) 9. Write a function called `sum_sq_err()` with these requirements:</span>**\n",
    "\n",
    "- take a numpy array as input\n",
    "- compute the mean of the array, mu\n",
    "- using a for-loop, compute the squared deviation of each array element xi from the mean, (xi - mu)**2  \n",
    "Hint: it may be helpful to keep a running sum of the squared deviations\n",
    "\n",
    "\n",
    "- computes the sum of squared deviations\n",
    "- returns the sum of squared deviations"
   ]
  },
  {
   "cell_type": "code",
   "execution_count": 36,
   "metadata": {},
   "outputs": [],
   "source": [
    "def sum_sq_err(nparray):\n",
    "    sd_sum = 0\n",
    "    mu = np.mean(nparray)\n",
    "    for xi in nparray:\n",
    "        sd_sum += ((xi - mu)**2)\n",
    "    return sd_sum    "
   ]
  },
  {
   "cell_type": "markdown",
   "metadata": {},
   "source": [
    "**<span style=\"color:blue\">(1 PT) 10. Call `sum_sq_err()` passing FFMC as the array, printing the result. </span>**"
   ]
  },
  {
   "cell_type": "code",
   "execution_count": 38,
   "metadata": {},
   "outputs": [
    {
     "name": "stdout",
     "output_type": "stream",
     "text": [
      "15723.357872340408\n"
     ]
    }
   ],
   "source": [
    "print(sum_sq_err(FFMC))"
   ]
  },
  {
   "cell_type": "markdown",
   "metadata": {},
   "source": [
    "---  "
   ]
  }
 ],
 "metadata": {
  "kernelspec": {
   "display_name": "Python 3",
   "language": "python",
   "name": "python3"
  },
  "language_info": {
   "codemirror_mode": {
    "name": "ipython",
    "version": 3
   },
   "file_extension": ".py",
   "mimetype": "text/x-python",
   "name": "python",
   "nbconvert_exporter": "python",
   "pygments_lexer": "ipython3",
   "version": "3.8.5"
  }
 },
 "nbformat": 4,
 "nbformat_minor": 4
}
